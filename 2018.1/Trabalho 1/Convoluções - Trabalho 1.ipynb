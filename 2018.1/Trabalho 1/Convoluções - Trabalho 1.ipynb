{
 "cells": [
  {
   "cell_type": "code",
   "execution_count": 1,
   "metadata": {},
   "outputs": [],
   "source": [
    "import numpy as np\n",
    "from PIL import Image\n",
    "import matplotlib.pyplot as plt\n",
    "import matplotlib.image as mpimg\n",
    "%matplotlib inline"
   ]
  },
  {
   "cell_type": "markdown",
   "metadata": {},
   "source": [
    "### Implementando Convolução\n",
    "\n",
    "Desenvolver em Python a operação de convolução Dw x Dw x C, com bias e função de ativação (ReLU e tanh), stride (inteiro positivo) e zero padding (boolean) especificados pelo usuário em tempo de execução. A máscara convolucional e o viés devem ser especificados em arquivo texto a ser lido durante a execução. Apresentar resultados com imagens RGB e em níveis de cinza, e com volumes Df x Df x N, produzidos a partir da aplicação prévia de N filtros convolucionais. Para visualização, os mapas de ativação devem ser convertidos para imagens em níveis de cinza no intervalo [0, 255], com a) níveis em valor absoluto com preto = zero; e b) mínimo = preto.  "
   ]
  },
  {
   "cell_type": "markdown",
   "metadata": {},
   "source": [
    "### Parte 1 - Operação de Convolução\n",
    "\n",
    "Uma operação de convolução, dada pela equação abaixo, pode ser realizada a partir da aplicação de uma máscara/filtro convolucional para cada pixel da imagem.  \n",
    "\n",
    "\\begin{align}\n",
    "g[n] = \\sum_{\\tau=-\\infty}^\\infty s[\\tau] h[n]-\\tau]\n",
    "\\end{align}\n",
    "\n",
    "Na equação, g é o resultado da operação, s o sinal de entrada e h a máscara convolucional. A Figura abaixo exemplifica a operação para um pixel em uma imagem de dimensão 8x8, utilizando máscara 3x3.\n",
    "\n",
    "![title](imgs/conv.jpg)\n",
    "\n",
    "Para realizar a operação em Python, duas funções deverão ser implementadas: zero_pad(X) e convolution(X, kernel, stride, padding), em que X é a imagem de entrada. Na função zero_pad(X), caso o usuário deseje realizar a operação de padding, a função deverá preencher a imagem de entrada com zeros, retornando a matriz X_pad. O método numpy.pad não deverá ser utilizado para realização dessa operação.\n",
    "\n",
    "Na função convolution(X,kernel,stride,padding), implemente a operação de convolução propriamente dita utilizando apenas funçoes básicas da biblioteca Numpy (i.e. função convolve, convolve2d, pad e outras do Numpy não serão permitidas nesse exercício). A função retornará uma matriz out_conv e deverá ser testada com imagens RGB e em níveis de cinza, considerando quatro casos principais:\n",
    "\n",
    "1: stride = 1 e padding True: adicione uma extensão por zeros na imagem e deslize a máscara a cada pixel da imagem;\n",
    "\n",
    "2: stride = 1 e padding False: não utilize extensão por zeros e deslize a máscara a cada pixel da imagem;\n",
    "\n",
    "3: stride > 1 e padding True: adicione uma extensão por zeros na imagem e deslize a máscara a cada S pixels da imagem, em que S é o valor do stride fornecido pelo usuário;\n",
    "\n",
    "4: stride > 1 e padding False: não dicione uma extensão por zeros na imagem e deslize a máscara a cada S pixels da imagem, em que S é o valor do stride fornecido pelo usuário;\n",
    "\n",
    "OBS: ao utilizar stride > 1 ou padding, poderá ser necessário tratar casos em que a operação ultrapasse a dimensão da imagem X. "
   ]
  },
  {
   "cell_type": "code",
   "execution_count": 2,
   "metadata": {},
   "outputs": [],
   "source": [
    "def zero_pad(X):\n",
    "    \"\"\"\n",
    "    Função para adicionar extensão por zeros na imagem de entrada.\n",
    "    Parametro: X - imagem de entrada\n",
    "    Retorno: X_pad - imagem resultante da extensão por zeros. \n",
    "    \"\"\"\n",
    "    return X_pad"
   ]
  },
  {
   "cell_type": "code",
   "execution_count": 4,
   "metadata": {},
   "outputs": [],
   "source": [
    "def convolution(X,filters,stride=1, padding=True):\n",
    "    \"\"\"\n",
    "    Função para implementar a operação de convolução.\n",
    "    Parametros: X - imagem de entrada\n",
    "                kernel - matriz com o kernel a ser utilizado pela operação\n",
    "                stride - tamanho do passo a ser utilizado (default 1)\n",
    "                padding - flag para utilização de padding (default True)\n",
    "    retorno out_conv: matriz resultante da operação de convolução\n",
    "    \"\"\"\n",
    "    return out"
   ]
  },
  {
   "cell_type": "markdown",
   "metadata": {},
   "source": [
    "### Parte 2 - Camada convolucional \n",
    "\n",
    "Uma vez implementada a função convolution, pode-se implementar uma camada convolucional por meio da função convLayer(X,C,act_func, kernel, stride, padding). Uma camada convolucional é ilustrada conforme Figura abaixo.\n",
    "\n",
    "Na Figura, uma imagem de entrada 32x32x3 é utilizada com 6 máscaras 5x5x3. Para cada filtro individualmente, aplica-se o bias (offset) seguido pela aplicação da função de ativação para formar seis mapas de característica (feature maps) de dimensão 28x28x6 (32 - 4 por não utilizar padding e 6 igual a quantidade de máscaras dessa camada).\n",
    "\n",
    "![title](imgs/convlayer.png)\n",
    "\n",
    "\n",
    "Baseado nisso, para implementar a camada, deve-se seguir como passos principais:\n",
    "\n",
    "1. Inicializar a matriz fmap: essa matriz pode ser criada utilizando numpy (e.g. np.zeros) e deverá conter a dimensão de saída do feature map (e.g. 28x28x6). Para calcular essa dimensão, utilize a equação abaixo, em que C é igual ao volume do feature map:\n",
    "\\begin{align}\n",
    "n_H = (X_H - filter_H+2*padding)/stride+1\\\\\n",
    "n_W = (X_W - filter_W+2*padding)/stride+1\\\\\n",
    "n_C = C\n",
    "\\end{align}\n",
    "\n",
    "2. Se padding for necessário, realizar a operação implementada pela função zero_pad(X);\n",
    "\n",
    "3. Implementar função de ativação. As funções de ativação definem o intervalo de valores que a saída do neurônio poderá ter. Nsse Notebook, duas funções de ativação devem ser implementadas (ReLU e Tanh). As funçoes, suas respectivas saídas e gráfico deverão ser similares ao exposto abaixo: \n",
    "\n",
    "-> Retificadora (Relu): saída 0 caso entrada seja negativa e maior que 1 caso contrário\n",
    "$$ \\begin{equation}\n",
    "  relu = max(0,x)\n",
    "\\end{equation} $$\n",
    "![alt text](imgs/relu.png \"Title\")\n",
    "-> Tangente Hiperbólica: saída entre [-1,1]\n",
    "$$ \\begin{equation}\n",
    "  tanh = \\frac{2}{(1+e^{-2*z})} - 1\n",
    "\\end{equation} $$\n",
    "![alt text](imgs/tanh.png \"Title\")\n",
    "\n",
    "4. Para cada filtro, produzir um feature map a partir da aplicação da convolução, adicionando-se um bias e utilizando a função de ativação implementada na etapa 3.\n",
    "\n",
    "5. Visualizar o feature map convertendo-o para uma imagem em níveis de cinza no intervalo [0, 255], com a) níveis em valor absoluto com preto = zero; e b) mínimo = preto.\n",
    "\n"
   ]
  },
  {
   "cell_type": "code",
   "execution_count": 7,
   "metadata": {},
   "outputs": [],
   "source": [
    "def activation_func(func_type, z):\n",
    "    \"\"\"\n",
    "    Função que implementa as funções de ativação ReLU e Tanh\n",
    "    Parãmetros: func_type - uma string que contém a função de ativação desejada\n",
    "                z - matriz resultante da convolução e do bias.\n",
    "    Retorna: feature map\n",
    "    \"\"\"\n",
    "    ### Seu código aqui (~2 linhas)\n",
    "    if func_type == 'relu':\n",
    "        return None\n",
    "    elif func_type == 'tanh':\n",
    "        return None"
   ]
  },
  {
   "cell_type": "code",
   "execution_count": 8,
   "metadata": {},
   "outputs": [],
   "source": [
    "def visualize_fmap(X):\n",
    "    \"\"\"\n",
    "    Função que convertendo-o para uma imagem em níveis de cinza no intervalo [0, 255], \n",
    "    com a) níveis em valor absoluto com preto = zero; e b) mínimo = preto.\n",
    "    \"\"\""
   ]
  },
  {
   "cell_type": "code",
   "execution_count": 9,
   "metadata": {},
   "outputs": [],
   "source": [
    "def convLayer(X,C,act_func, filters, stride, padding):\n",
    "    \"\"\"\n",
    "    Implementa a camada convolucional utilizando bias e função de ativação.\n",
    "    Parametros: X - matriz de entrada\n",
    "                C - quantidade de canais do feature map\n",
    "                filters - filtros utilizados na camada\n",
    "                stride - tamanho do passo a ser utilizado (default 1)\n",
    "                padding - flag para utilização de padding (default True)\n",
    "    Retorno: fmap - feature map de dimensão (n_W,n_H, C)\n",
    "    \"\"\"\n",
    "    return fmap"
   ]
  },
  {
   "cell_type": "markdown",
   "metadata": {},
   "source": [
    "### Parte 4 - Main\n",
    "\n",
    "Para finalizar, utilize a função main para leitura dos filtros e bias obtidos a partir de um arquivo csv. O arquivo poderá ser lido a partir de métodos do numpy (e.g. genfromtxt e loadfromtxt). Uma vez que stride e padding deverão ser especificados pelo usuário, a função input do Numpy poderá ser utilizada para obter os valores. Por fim, a imagem de entrada poderá ser obtida por meio de métodos da biblioteca PIL (i.e. Image), OpenCV, entre outros."
   ]
  },
  {
   "cell_type": "code",
   "execution_count": 12,
   "metadata": {},
   "outputs": [],
   "source": [
    "def main():\n",
    "    convFilters = None\n",
    "    stride = int(input(\"Entre com um valor inteiro positivo para o stride \"))\n",
    "    padding = (input(\"Sua operaçao será feita com padding? True or False\"))\n",
    "    imageFile = np.asarray(Image.open(\"\"))\n",
    "    plt.imshow(imageFile) \n",
    "    fmap = convLayer(imageFile, 6, 'relu', convFilters)"
   ]
  },
  {
   "cell_type": "code",
   "execution_count": null,
   "metadata": {},
   "outputs": [],
   "source": []
  }
 ],
 "metadata": {
  "kernelspec": {
   "display_name": "Python 3",
   "language": "python",
   "name": "python3"
  },
  "language_info": {
   "codemirror_mode": {
    "name": "ipython",
    "version": 3
   },
   "file_extension": ".py",
   "mimetype": "text/x-python",
   "name": "python",
   "nbconvert_exporter": "python",
   "pygments_lexer": "ipython3",
   "version": "3.6.5"
  }
 },
 "nbformat": 4,
 "nbformat_minor": 2
}
