{
 "cells": [
  {
   "cell_type": "code",
   "execution_count": 1,
   "metadata": {},
   "outputs": [
    {
     "name": "stdout",
     "output_type": "stream",
     "text": [
      "WARNING:tensorflow:From <ipython-input-1-91b16808729c>:7: read_data_sets (from tensorflow.contrib.learn.python.learn.datasets.mnist) is deprecated and will be removed in a future version.\n",
      "Instructions for updating:\n",
      "Please use alternatives such as official/mnist/dataset.py from tensorflow/models.\n",
      "WARNING:tensorflow:From /usr/local/lib/python3.6/site-packages/tensorflow/contrib/learn/python/learn/datasets/mnist.py:260: maybe_download (from tensorflow.contrib.learn.python.learn.datasets.base) is deprecated and will be removed in a future version.\n",
      "Instructions for updating:\n",
      "Please write your own downloading logic.\n",
      "WARNING:tensorflow:From /usr/local/lib/python3.6/site-packages/tensorflow/contrib/learn/python/learn/datasets/mnist.py:262: extract_images (from tensorflow.contrib.learn.python.learn.datasets.mnist) is deprecated and will be removed in a future version.\n",
      "Instructions for updating:\n",
      "Please use tf.data to implement this functionality.\n",
      "Extracting MNIST_data/train-images-idx3-ubyte.gz\n",
      "WARNING:tensorflow:From /usr/local/lib/python3.6/site-packages/tensorflow/contrib/learn/python/learn/datasets/mnist.py:267: extract_labels (from tensorflow.contrib.learn.python.learn.datasets.mnist) is deprecated and will be removed in a future version.\n",
      "Instructions for updating:\n",
      "Please use tf.data to implement this functionality.\n",
      "Extracting MNIST_data/train-labels-idx1-ubyte.gz\n",
      "WARNING:tensorflow:From /usr/local/lib/python3.6/site-packages/tensorflow/contrib/learn/python/learn/datasets/mnist.py:110: dense_to_one_hot (from tensorflow.contrib.learn.python.learn.datasets.mnist) is deprecated and will be removed in a future version.\n",
      "Instructions for updating:\n",
      "Please use tf.one_hot on tensors.\n",
      "Extracting MNIST_data/t10k-images-idx3-ubyte.gz\n",
      "Extracting MNIST_data/t10k-labels-idx1-ubyte.gz\n",
      "WARNING:tensorflow:From /usr/local/lib/python3.6/site-packages/tensorflow/contrib/learn/python/learn/datasets/mnist.py:290: DataSet.__init__ (from tensorflow.contrib.learn.python.learn.datasets.mnist) is deprecated and will be removed in a future version.\n",
      "Instructions for updating:\n",
      "Please use alternatives such as official/mnist/dataset.py from tensorflow/models.\n"
     ]
    }
   ],
   "source": [
    "import tensorflow as tf\n",
    "import numpy as np\n",
    "import pandas as pd \n",
    "import matplotlib.pyplot as plt\n",
    "from sklearn.model_selection import train_test_split\n",
    "from tensorflow.examples.tutorials.mnist import input_data\n",
    "mnist = input_data.read_data_sets('MNIST_data', one_hot=True)\n",
    "import matplotlib.pyplot as plt\n",
    "%matplotlib inline\n",
    "import numpy as np\n",
    "import random as ran\n",
    "from tensorflow.contrib.layers import flatten\n"
   ]
  },
  {
   "cell_type": "markdown",
   "metadata": {},
   "source": [
    "### Introdução ao Tensorflow\n",
    "\n",
    "* Biblioteca de software de código aberto para computação numérica que usa gráficos de fluxo de dados\n",
    "* Nós no gráfico representam operações matemáticas,\n",
    "* Arestas representam as matrizes ou tensores de dados multidimensionais que se comunicam com os nós\n",
    "\n",
    "![alt text](imgs/tf_graph.png \"Title\")\n",
    "\n",
    "#### O que são nós? \n",
    "\n",
    "Operadores, variáveis, constantes\n",
    "\n",
    "##### O que são arestas? \n",
    "\n",
    "Os tensors\n",
    "\n",
    "![alt text](imgs/tf_add.png \"Title\")\n",
    "\n",
    "#### Como realizar uma operação?\n",
    "\n",
    "O tensorflow possui um objeto, denominado Session, responsável por executar as operações e tensors criados \n",
    "\n",
    "#### TensorFlow = tensor + flow = data + flow \n",
    "\n",
    "![alt text](imgs/200w_d.gif \"Title\")\n"
   ]
  },
  {
   "cell_type": "code",
   "execution_count": 2,
   "metadata": {},
   "outputs": [
    {
     "name": "stdout",
     "output_type": "stream",
     "text": [
      "8\n"
     ]
    }
   ],
   "source": [
    "a = tf.add(3, 5)\n",
    "with tf.Session() as sess:\n",
    "\tprint(sess.run(a))"
   ]
  },
  {
   "cell_type": "markdown",
   "metadata": {},
   "source": [
    "### MNIST no Tensorflow\n",
    "\n",
    "1. Criar variáveis de entrada (X) e saída (y_t) através de placeholders\n",
    "2. Inicializar pesos e bias"
   ]
  },
  {
   "cell_type": "code",
   "execution_count": 3,
   "metadata": {},
   "outputs": [
    {
     "name": "stdout",
     "output_type": "stream",
     "text": [
      "Extracting MNIST_data/train-images-idx3-ubyte.gz\n",
      "Extracting MNIST_data/train-labels-idx1-ubyte.gz\n",
      "Extracting MNIST_data/t10k-images-idx3-ubyte.gz\n",
      "Extracting MNIST_data/t10k-labels-idx1-ubyte.gz\n"
     ]
    }
   ],
   "source": [
    "mnist = input_data.read_data_sets(\"MNIST_data/\", reshape=False, one_hot=True)\n",
    "train_X, train_y           = mnist.train.images, mnist.train.labels\n",
    "valid_X, valid_y = mnist.validation.images, mnist.validation.labels\n",
    "test_X, test_y             = mnist.test.images, mnist.test.labels\n",
    "\n",
    "#train_X = train_X.reshape(-1, 28, 28, 1)\n",
    "#test_X = test_X.reshape(-1,28,28,1)\n",
    "    "
   ]
  },
  {
   "cell_type": "code",
   "execution_count": 4,
   "metadata": {},
   "outputs": [],
   "source": [
    "# Pad images with 0s\n",
    "train_X      = np.pad(train_X, ((0,0),(2,2),(2,2),(0,0)), 'constant')\n",
    "valid_X = np.pad(valid_X, ((0,0),(2,2),(2,2),(0,0)), 'constant')\n",
    "test_X       = np.pad(test_X, ((0,0),(2,2),(2,2),(0,0)), 'constant')"
   ]
  },
  {
   "cell_type": "code",
   "execution_count": 5,
   "metadata": {},
   "outputs": [],
   "source": [
    "training_iters = 10\n",
    "learning_rate = 0.001 \n",
    "batch_size = 128"
   ]
  },
  {
   "cell_type": "markdown",
   "metadata": {},
   "source": [
    "### Definir as entradas e saídas da rede\n",
    "\n",
    "Para o tensorflow, as entradas e saídas da rede são definidas a partir de Placeholders, que são estruturas capazes de construir o grafo, assim como suas operações, sem associar aos dados inicialmente de forma direta. Para implementar um placeholder, definimos o tipo do mesmo (e.g. float) e suas dimensões. Para o MNIST, como a entrada tem formato 28x28x1 (widthxheightxchannel), o placeholder deverá possuir a mesma dimensão. Da mesma forma, o placeholder y deverá conter o número de classes do problema que, para o MNIST, possui valor igual a 10. Além disso, ambos placeholders possuem uma dimensão None, significando dizer que a quantidade de instâncias do placeholder será definida posteriormente. "
   ]
  },
  {
   "cell_type": "code",
   "execution_count": 6,
   "metadata": {},
   "outputs": [],
   "source": [
    "# MNIST data input (img shape: 28*28)\n",
    "n_input = 32\n",
    "\n",
    "# MNIST total classes (0-9 digits)\n",
    "n_classes = 10\n",
    "\n",
    "#both placeholders are of type float\n",
    "x = tf.placeholder(\"float\", [None, 32,32,1])\n",
    "y = tf.placeholder(\"float\", [None, n_classes])"
   ]
  },
  {
   "cell_type": "markdown",
   "metadata": {},
   "source": [
    "### Criando funções de convolução e pooling auxiliares\n",
    "\n",
    "O tensorflow possui funções nativas para realizar convolução, entretanto, a criação da camada convolucional requer três passos principais:\n",
    "1. Definir parâmetros dos filtros, strides e padding, a partir da função conv2d\n",
    "2. Adicionar bias\n",
    "3. Limitar a saída de 2. através da função de ativação\n",
    "\n",
    "Assim, para simplificar, define-se uma função conv2d com as três funções do tensorflow responsáveis pelos passos definidos anteriormente. Da mesma forma, define-se a função maxpool2d."
   ]
  },
  {
   "cell_type": "code",
   "execution_count": 7,
   "metadata": {},
   "outputs": [],
   "source": [
    "def conv2d(x, W, b, strides=1):\n",
    "    \"\"\"\n",
    "    Função para implementar a camada convolucional.\n",
    "    Parâmetros: x - camada prévia da rede \n",
    "                W - dimensão e quantidade de filtros utilizados\n",
    "                b - bias de cada camada\n",
    "    \n",
    "    \"\"\"\n",
    "    x = tf.nn.conv2d(x, W, strides=[1, strides, strides, 1], padding='VALID')\n",
    "    x = tf.nn.bias_add(x, b)\n",
    "    return tf.nn.relu(x) \n",
    "\n",
    "def maxpool2d(x, k=2):\n",
    "    return tf.nn.max_pool(x, ksize=[1, k, k, 1], strides=[1, k, k, 1],padding='SAME')"
   ]
  },
  {
   "cell_type": "markdown",
   "metadata": {},
   "source": [
    "### Definindo os pesos e bias\n",
    "\n",
    "Além de inicializar os placeholders, no tensorflow também é necessário definir as variáveis, que para redes neurais podem ser pesos e bias. Em uma rede neural, cada camada possui seus respectivos pesos e bias. Da mesma forma, em uma rede convolucional, cada camada possui seus filtros que devem ser definidos através das variáveis.\n",
    "\n",
    "Assim, para a primeira camada, a variável wc1 define os pesos da mesma no formato (width, height, channel, quantidade de filtros). Para a LeNet, utilizaremos dimensão 5x5 de filtros, um único canal (imagem em tons de cinza) e 6 filtros convolucionais. Da mesma forma, para a segunda camada, inicializamos os pesos com dimensão 5x5, entretanto, o número de canais será igual a 6, uma vez que a camada anterior produz 6 mapas de característica. \n",
    "\n",
    "Da mesma forma, cada camada possui bias, sendo um para cada filtro. Dessa forma, a variável bias terá como dimensão a quantidade de filtros desta camada (e.g. 6 para a primeira camada e 16 para a segunda). \n",
    "\n",
    "Por fim, para cada camada, o tensorflow possui inicializadores que podem ser utilizados, como xavier e He."
   ]
  },
  {
   "cell_type": "code",
   "execution_count": 8,
   "metadata": {},
   "outputs": [],
   "source": [
    "weights = {\n",
    "    'wc1': tf.get_variable('W0', shape=(5,5,1,6), initializer=tf.contrib.layers.xavier_initializer()), \n",
    "    'wc2': tf.get_variable('W1', shape=(5,5,6,16), initializer=tf.contrib.layers.xavier_initializer()), \n",
    "    'wc3': tf.get_variable('W2', shape=(5,5,16,120), initializer=tf.contrib.layers.xavier_initializer()), \n",
    "    'wd1': tf.get_variable('W3', shape=(120,84), initializer=tf.contrib.layers.xavier_initializer()), \n",
    "    'out': tf.get_variable('W6', shape=(84,n_classes), initializer=tf.contrib.layers.xavier_initializer()), \n",
    "}\n",
    "biases = {\n",
    "    'bc1': tf.get_variable('B0', shape=(6), initializer=tf.contrib.layers.xavier_initializer()),\n",
    "    'bc2': tf.get_variable('B1', shape=(16), initializer=tf.contrib.layers.xavier_initializer()),\n",
    "    'bc3': tf.get_variable('B2', shape=(120), initializer=tf.contrib.layers.xavier_initializer()),\n",
    "    'bd1': tf.get_variable('B3', shape=(84), initializer=tf.contrib.layers.xavier_initializer()),\n",
    "    'out': tf.get_variable('B4', shape=(10), initializer=tf.contrib.layers.xavier_initializer()),\n",
    "}"
   ]
  },
  {
   "cell_type": "markdown",
   "metadata": {},
   "source": [
    "### Criando a Estrutura da Rede\n",
    "\n",
    "Definidos os placeholders, pesos, bias e criadas as funções de convolução e pooling, podemos definir a estrutura da rede conforme arquitetura da LeNet da Figura abaixo. \n",
    "\n",
    "![alt text](imgs/LeNet-5-structure.png \"Title\")\n",
    "\n"
   ]
  },
  {
   "cell_type": "code",
   "execution_count": 9,
   "metadata": {},
   "outputs": [],
   "source": [
    "from tensorflow.contrib.layers import flatten\n",
    "\n",
    "def conv_net(x, weights, biases):  \n",
    "\n",
    "    # here we call the conv2d function we had defined above and pass the input image x, weights wc1 and bias bc1.\n",
    "    conv1 = conv2d(x, weights['wc1'], biases['bc1'])\n",
    "    # Max Pooling (down-sampling), this chooses the max value from a 2*2 matrix window and outputs a 14*14 matrix.\n",
    "    conv1 = maxpool2d(conv1, k=2)\n",
    "\n",
    "    # Convolution Layer\n",
    "    # here we call the conv2d function we had defined above and pass the input image x, weights wc2 and bias bc2.\n",
    "    conv2 = conv2d(conv1, weights['wc2'], biases['bc2'])\n",
    "    # Max Pooling (down-sampling), this chooses the max value from a 2*2 matrix window and outputs a 7*7 matrix.\n",
    "    conv2 = maxpool2d(conv2, k=2)\n",
    "\n",
    "    conv3 = conv2d(conv2, weights['wc3'], biases['bc3'])\n",
    "    # Max Pooling (down-sampling), this chooses the max value from a 2*2 matrix window and outputs a 4*4.\n",
    "    conv3 = maxpool2d(conv3, k=2)\n",
    "\n",
    "    f = flatten(conv3)\n",
    "    # Fully connected layer\n",
    "    # Reshape conv2 output to fit fully connected layer input\n",
    "    #fc1 = tf.reshape(conv3, [-1, weights['wd1'].get_shape().as_list()[0]])\n",
    "    fc1 = tf.add(tf.matmul(f, weights['wd1']), biases['bd1'])\n",
    "    fc1 = tf.nn.relu(fc1)\n",
    "    # Output, class prediction\n",
    "    # finally we multiply the fully connected layer with the weights and add a bias term. \n",
    "    out = tf.add(tf.matmul(fc1, weights['out']), biases['out'])\n",
    "    return out"
   ]
  },
  {
   "cell_type": "markdown",
   "metadata": {},
   "source": [
    "### Perda e Otimizador\n",
    "\n",
    "Para realizar o treinamento, precisamos de uma função custo capaz de calcular a perda durante o aprendizado. Para o tensorflow, isso pode ser feito por dois passos:\n",
    "1. Calcular a cross entropy entre a saída predida (pred) e os labels do treinamento (y). Cross entropy é a própria  de custo utilizada como padrão pelo tensorflow;\n",
    "2. Calcular a média de todos os batches da função custo da etapa 1 através da função reduce_mean\n",
    "\n",
    "Por fim, antes de iniciar o treinamento, torna-se necessário definir o otimizador. Para CNNs, o Adam é um otimizador bastante utilizado."
   ]
  },
  {
   "cell_type": "code",
   "execution_count": 10,
   "metadata": {},
   "outputs": [
    {
     "name": "stdout",
     "output_type": "stream",
     "text": [
      "WARNING:tensorflow:From <ipython-input-10-989f812044df>:3: softmax_cross_entropy_with_logits (from tensorflow.python.ops.nn_ops) is deprecated and will be removed in a future version.\n",
      "Instructions for updating:\n",
      "\n",
      "Future major versions of TensorFlow will allow gradients to flow\n",
      "into the labels input on backprop by default.\n",
      "\n",
      "See `tf.nn.softmax_cross_entropy_with_logits_v2`.\n",
      "\n"
     ]
    }
   ],
   "source": [
    "pred = conv_net(x, weights, biases)\n",
    "\n",
    "cost = tf.reduce_mean(tf.nn.softmax_cross_entropy_with_logits(logits=pred, labels=y))\n",
    "\n",
    "optimizer = tf.train.AdamOptimizer(learning_rate=learning_rate).minimize(cost)"
   ]
  },
  {
   "cell_type": "markdown",
   "metadata": {},
   "source": [
    "### Métrica de Avaliação\n",
    "\n",
    "Além da função do custo, precisamos avaliar a corretude da rede, uma das formas de fazer isso é através da acurácia. Para implementar a acurácia, uma vez que utilizamos softmax, precisamos identificar quais predições o modelo avaliou corretamente de acordo com o rótulo do treinamento, isso é, se o ródulo com maior nível de confiança retornado pela predição e pelo rótulo são iguais. Isso pode ser ilustrado através da variável correct_prediction.\n",
    "\n",
    "Após isso, calcula-se a acurácia através da média das predições."
   ]
  },
  {
   "cell_type": "code",
   "execution_count": 11,
   "metadata": {},
   "outputs": [],
   "source": [
    "#Here you check whether the index of the maximum value of the predicted image is equal to the actual labelled image. and both will be a column vector.\n",
    "correct_prediction = tf.equal(tf.argmax(pred, 1), tf.argmax(y, 1))\n",
    "\n",
    "#calculate accuracy across all the given images and average them out. \n",
    "accuracy = tf.reduce_mean(tf.cast(correct_prediction, tf.float32))"
   ]
  },
  {
   "cell_type": "markdown",
   "metadata": {},
   "source": [
    "### Treinamento\n",
    "\n",
    "Para realizar o treinamento, inicializamos os pesos e bias definidos e criamos uma sessão no tensorflow. Após isso, o ciclo do treinamento é definido através de um laço for para todas as epochs definidas, e um segundo laço para os batches, além de definir quais instâncias do treino farão parte do batch para esse ciclo de treinamento.\n",
    "\n",
    "Definidos os laços e a entrada do batch, o otimizador, função custo e acurácia são calculados a partir da função run. Da mesma forma, podemos calcular a função de perda e acurácia na base de validação ao fim do ciclo."
   ]
  },
  {
   "cell_type": "code",
   "execution_count": 12,
   "metadata": {},
   "outputs": [],
   "source": [
    "# Initializing the variables\n",
    "init = tf.global_variables_initializer()\n",
    "saver = tf.train.Saver()\n"
   ]
  },
  {
   "cell_type": "code",
   "execution_count": 13,
   "metadata": {},
   "outputs": [
    {
     "name": "stdout",
     "output_type": "stream",
     "text": [
      "Iter 0, Loss= 0.028920, Training Accuracy= 1.00000\n",
      "Optimization Finished!\n",
      "Testing Accuracy: 0.95220\n",
      "Iter 1, Loss= 0.011082, Training Accuracy= 1.00000\n",
      "Optimization Finished!\n",
      "Testing Accuracy: 0.97080\n",
      "Iter 2, Loss= 0.007172, Training Accuracy= 1.00000\n",
      "Optimization Finished!\n",
      "Testing Accuracy: 0.97520\n",
      "Iter 3, Loss= 0.004687, Training Accuracy= 1.00000\n",
      "Optimization Finished!\n",
      "Testing Accuracy: 0.97880\n",
      "Iter 4, Loss= 0.003747, Training Accuracy= 1.00000\n",
      "Optimization Finished!\n",
      "Testing Accuracy: 0.98100\n",
      "Iter 5, Loss= 0.002137, Training Accuracy= 1.00000\n",
      "Optimization Finished!\n",
      "Testing Accuracy: 0.98320\n",
      "Iter 6, Loss= 0.002243, Training Accuracy= 1.00000\n",
      "Optimization Finished!\n",
      "Testing Accuracy: 0.98420\n",
      "Iter 7, Loss= 0.002157, Training Accuracy= 1.00000\n",
      "Optimization Finished!\n",
      "Testing Accuracy: 0.98520\n",
      "Iter 8, Loss= 0.002300, Training Accuracy= 1.00000\n",
      "Optimization Finished!\n",
      "Testing Accuracy: 0.98320\n",
      "Iter 9, Loss= 0.001145, Training Accuracy= 1.00000\n",
      "Optimization Finished!\n",
      "Testing Accuracy: 0.98460\n"
     ]
    }
   ],
   "source": [
    "with tf.Session() as sess:\n",
    "    sess.run(init) \n",
    "    train_loss = []\n",
    "    validation_loss = []\n",
    "    train_accuracy = []\n",
    "    validation_accuracy = []\n",
    "    summary_writer = tf.summary.FileWriter('./Output', sess.graph)\n",
    "    for i in range(training_iters):\n",
    "        for batch in range(len(train_X)//batch_size):\n",
    "            batch_x = train_X[batch*batch_size:min((batch+1)*batch_size,len(train_X))]\n",
    "            batch_y = train_y[batch*batch_size:min((batch+1)*batch_size,len(train_y))]    \n",
    "            # Run optimization op (backprop).\n",
    "                # Calculate batch loss and accuracy\n",
    "            opt = sess.run(optimizer, feed_dict={x: batch_x,\n",
    "                                                              y: batch_y})\n",
    "            loss, acc = sess.run([cost, accuracy], feed_dict={x: batch_x,\n",
    "                                                              y: batch_y})\n",
    "        print(\"Iter \" + str(i) + \", Loss= \" + \\\n",
    "                      \"{:.6f}\".format(loss) + \", Training Accuracy= \" + \\\n",
    "                      \"{:.5f}\".format(acc))\n",
    "        print(\"Optimization Finished!\")\n",
    "\n",
    "        # Calculate accuracy for all 10000 mnist test images\n",
    "        valid_acc,valid_loss = sess.run([accuracy,cost], feed_dict={x: valid_X,y : valid_y})\n",
    "        train_loss.append(loss)\n",
    "        validation_loss.append(valid_loss)\n",
    "        train_accuracy.append(acc)\n",
    "        validation_accuracy.append(valid_acc)\n",
    "        print(\"Testing Accuracy:\",\"{:.5f}\".format(valid_acc))\n",
    "        saver.save(sess, './lenet')\n",
    "    summary_writer.close()"
   ]
  },
  {
   "cell_type": "code",
   "execution_count": 14,
   "metadata": {},
   "outputs": [
    {
     "data": {
      "image/png": "[encoded data removed]",
      "text/plain": [
       "<Figure size 432x288 with 1 Axes>"
      ]
     },
     "metadata": {
      "needs_background": "light"
     },
     "output_type": "display_data"
    },
    {
     "data": {
      "text/plain": [
       "<Figure size 432x288 with 0 Axes>"
      ]
     },
     "metadata": {},
     "output_type": "display_data"
    }
   ],
   "source": [
    "plt.plot(range(len(train_loss)), train_loss, 'b', label='Training loss')\n",
    "plt.plot(range(len(train_loss)), validation_loss, 'r', label='Validation loss')\n",
    "plt.title('Training and Valid loss')\n",
    "plt.xlabel('Epochs ',fontsize=16)\n",
    "plt.ylabel('Loss',fontsize=16)\n",
    "plt.legend()\n",
    "plt.figure()\n",
    "plt.show()"
   ]
  },
  {
   "cell_type": "code",
   "execution_count": 15,
   "metadata": {},
   "outputs": [
    {
     "data": {
      "image/png": "[encoded data removed]",
      "text/plain": [
       "<Figure size 432x288 with 1 Axes>"
      ]
     },
     "metadata": {
      "needs_background": "light"
     },
     "output_type": "display_data"
    },
    {
     "data": {
      "text/plain": [
       "<Figure size 432x288 with 0 Axes>"
      ]
     },
     "metadata": {},
     "output_type": "display_data"
    }
   ],
   "source": [
    "plt.plot(range(len(train_loss)), train_accuracy, 'b', label='Training Accuracy')\n",
    "plt.plot(range(len(train_loss)), validation_accuracy, 'r', label='Validation Accuracy')\n",
    "plt.title('Training and Valid Accuracy')\n",
    "plt.xlabel('Epochs ',fontsize=16)\n",
    "plt.ylabel('Loss',fontsize=16)\n",
    "plt.legend()\n",
    "plt.figure()\n",
    "plt.show()"
   ]
  },
  {
   "cell_type": "code",
   "execution_count": null,
   "metadata": {},
   "outputs": [],
   "source": []
  }
 ],
 "metadata": {
  "kernelspec": {
   "display_name": "Python 3",
   "language": "python",
   "name": "python3"
  },
  "language_info": {
   "codemirror_mode": {
    "name": "ipython",
    "version": 3
   },
   "file_extension": ".py",
   "mimetype": "text/x-python",
   "name": "python",
   "nbconvert_exporter": "python",
   "pygments_lexer": "ipython3",
   "version": "3.6.5"
  }
 },
 "nbformat": 4,
 "nbformat_minor": 2
}
