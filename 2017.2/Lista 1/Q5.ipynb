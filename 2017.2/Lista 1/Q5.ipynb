{
 "cells": [
  {
   "cell_type": "markdown",
   "metadata": {},
   "source": [
    "### Redes Neurais Utilizando o Tensorflow\n",
    "\n",
    "[TensorFlow™](https://www.tensorflow.org) é uma biblioteca de software livre utilizada para operações numéricas que requerem alta performance como Deep Learning. Sua estrutura simbólica de grafos (tensors) permite uma arquitetura flexível e otimizada para diferentes plataformas (e.g. CPUs, GPUs, dispositivos móveis), além de facilitar a implementação de redes em diferentes níveis de complexidade. \n",
    "\n",
    "Utilizando o tensorflow em Deep Learning, podemos definir o data flow da rede, compreendendo o funcionamento da mesma sem nos preocuparmos em calcular as derivadas da mesma de forma otimizada por exemplo. Isso é possível através da estrutura de tensors, em que cada operação representa um nó do grafo (e.g. adição, multiplicação) e é executada por uma seção. Além da seção, definimos placeholders e variáveis. Placeholders podem ser entendidos como as entradas e saídas da minha rede, objectos que não seráo alterados durante o treinamento. Variáveis por outro lado, podem ser tidas como pesos e bias, ou seja, objetos que são atualizados a cada interação do treinamento.       \n",
    "\n",
    "Com essa estrutura, pode-se ter um controle do código e do que acontece na rede, sendo mais indicado o uso para aplicações e pesquisas que requerem um estudo mais aprofundado de Deep Learning. Quando o objetivo é a utilização em alto nível, uma boa opção é utilizar o Keras, framework que utiliza o tensorflow como backend em um nível de abstração mais alto.\n",
    "\n",
    "Para maior contextualização do tensorflow puro, esse notebook irá mostrar como implementar os exercícios da Lista de Exercícios de Redes Neurais da disciplina.\n",
    "\n"
   ]
  },
  {
   "cell_type": "code",
   "execution_count": 2,
   "metadata": {},
   "outputs": [],
   "source": [
    "import tensorflow as tf\n",
    "import numpy as np\n",
    "import pickle\n",
    "import matplotlib.pyplot as plt\n",
    "import matplotlib.cm as cm\n",
    "from sklearn.model_selection import train_test_split"
   ]
  },
  {
   "cell_type": "markdown",
   "metadata": {},
   "source": [
    "### Passo 1 - Definir as entradas e saídas da rede\n",
    "Para o tensorflow, as entradas e saídas da rede são definidas a partir de Placeholders. A função initPlaceholders(input_shape, output_shape) implementa essas estruturas, sendo necessário definir o tipo da variável (float 32 para esse caso) e a dimensão.\n",
    "A dimensáo de entrada pode ser tida como a quantidade de instâncias contidas na base de treinamento e da quantidade necessária de entradas/saídas para processar. \n",
    "\n",
    "Para esse problema de regressão, tem-se 1000 instâncias, cada uma com dez entradas, dessa forma, a dimensão do placeholder de entrada será [None,10]. Da mesma forma, o placeholder de saída terá dimensãoes [None,3], uma vez que temos uma saída composta por 3 valores. Por fim, é boa prática também definir o nome do placeholder (X ou Y para esse exemplo) afim de identificá-lo no grafo formado pelo tensorflow."
   ]
  },
  {
   "cell_type": "code",
   "execution_count": 3,
   "metadata": {},
   "outputs": [],
   "source": [
    "X = tf.placeholder(tf.float32, shape=[None,10], name = 'X')\n",
    "Y = tf.placeholder(tf.float32, shape=[None,3], name = 'Y')"
   ]
  },
  {
   "cell_type": "markdown",
   "metadata": {},
   "source": [
    "### Passo 2 - Inicializar os pesos\n",
    "\n",
    "Além de inicializar os placeholders, no tensorflow também é necessário definir as variáveis, que para redes neurais podem ser pesos e bias. Em uma rede neural, cada camada possui seus respectivos pesos e bias. Dessa forma, cada peso tem dimensão igual a quantidade de entradas da camada e da quantidade de entradas da camada seguinte. Por exemplo, a camada de entrada possui pesos de dimensão igual a [input_num, hidden_num], em que input_num é a quantidade de entradas e hidden_num a quantidade e entradas da camada seguinte. Da mesma forma, uma camada escondida possui pesos na dimensão [hidden_num, output_num], sendo hidden_num a quantidade de entradas da camada atual e output_num a quantidade de entradas da camada de saída.\n",
    "\n",
    "Para esse problema, utilizou-se apenas uma camada escondida de 10 neurônios como primeira tentativa, uma vez que a entrada já possuia 10 neurônios."
   ]
  },
  {
   "cell_type": "code",
   "execution_count": 4,
   "metadata": {},
   "outputs": [],
   "source": [
    "w1 = tf.Variable(tf.random_uniform([10,10], -1, 1), name=\"w1\")\n",
    "w2 = tf.Variable(tf.random_uniform([10,3], -1, 1), name=\"w2\")\n",
    "#w3 = tf.Variable(tf.random_uniform([8,8], -1, 1), name=\"w3\")\n",
    "#w4 = tf.Variable(tf.random_uniform([8,8], -1, 1), name=\"w4\")\n",
    "\n",
    "b1 = tf.Variable(tf.zeros([10]), name=\"b1\")\n",
    "b2 = tf.Variable(tf.zeros([3]), name=\"b2\")\n",
    "#b3 = tf.Variable(tf.zeros([8]), name=\"b3\")\n",
    "#b4 = tf.Variable(tf.zeros([8]), name=\"b4\")"
   ]
  },
  {
   "cell_type": "markdown",
   "metadata": {},
   "source": [
    "### Passo 3 - Definir a estrutura da rede\n",
    "\n",
    "Após inicializar os pesos, pode-se definir a estrutura da rede. Isso pode-ser feito a partir da equação:\n",
    "\n",
    "camada = função de ativação (X * W + b)\n",
    "\n",
    "Cada camada pode ter uma função de ativação de acordo com o problema, para redes neurais tradicionais, é usual utilizar a função sigmoid, linear ou degrau. Para problemas multiclasse, podemos utilizar a função softmax. Como o problema utiliza a função seno, então a tangente hiperbólica foi utilizada, considerando que a mesma possui saída variando entre -1 e 1."
   ]
  },
  {
   "cell_type": "code",
   "execution_count": 5,
   "metadata": {},
   "outputs": [],
   "source": [
    "hidden = tf.tanh(tf.add(tf.matmul(X, w1),b1)) #camada escondida\n",
    "#hidden2 = tf.sigmoid(tf.add(tf.matmul(hidden, w2),b2)) #camada escondida\n",
    "#hidden3 = tf.sigmoid(tf.add(tf.matmul(hidden2, w3),b3)) #camada escondida\n",
    "y_pred = tf.tanh(tf.add(tf.matmul(hidden,w2),b2)) #camada de saída"
   ]
  },
  {
   "cell_type": "markdown",
   "metadata": {},
   "source": [
    "### Passo 4 - Otimização\n",
    "\n",
    "Definida a estrutura da rede, a saída y_pred precisa ser comparada com a saída original Y da base de dados para calcular a perda (loss) do sistema. Uma forma simples de calcular a perda é calcular o erro médio quadrático (MSE), embora normalmente utilize-se a cross-entropy.\n",
    "\n",
    "Após o cálculo da perda, pode-se corrigir o erro calculado a partir de um otimizador que possui como parâmetro uma taxa de aprendizado que pode ter o valor entre 0 e 1. Existem também outros otimizadores utilizados no [tensorflow](https://www.tensorflow.org/versions/master/api_guides/python/train), sendo o Adam bastante utilizado para Deep Learning."
   ]
  },
  {
   "cell_type": "code",
   "execution_count": 6,
   "metadata": {},
   "outputs": [],
   "source": [
    "loss = tf.reduce_mean(tf.squared_difference(y_pred, Y)) \n",
    "#loss = tf.reduce_mean(tf.nn.softmax_cross_entropy_with_logits(logits=y_pred, labels=Y))\n",
    "#loss = tf.nn.sigmoid_cross_entropy_with_logits(logits=y_pred, labels=Y)\n",
    "#optimizer = tf.train.GradientDescentOptimizer(0.01).minimize(loss)\n",
    "optimizer = tf.train.AdamOptimizer(0.03).minimize(loss)"
   ]
  },
  {
   "cell_type": "markdown",
   "metadata": {},
   "source": [
    "### Passo 5 - Dataset\n",
    "\n",
    "O dataset é uma das partes mais importantes da resolução do problema e a explicação, assim como a implementação, sobre isso está no Notebook datasets. O dataset foi salvo em Pickle e agora poderá ser manipulado uma vez que o arquivo seja aberto. "
   ]
  },
  {
   "cell_type": "code",
   "execution_count": 7,
   "metadata": {},
   "outputs": [],
   "source": [
    "fileObject = open('datasets/q5','rb')\n",
    "dataset = pickle.load(fileObject)\n",
    "\n",
    "X_train, X_test, y_train, y_test = train_test_split(dataset['X'], dataset['Y'], test_size=0.2)\n",
    "\n",
    "X_train, X_val, y_train, y_val = train_test_split(X_train, y_train, test_size=0.2)"
   ]
  },
  {
   "cell_type": "markdown",
   "metadata": {},
   "source": [
    "### Passo 6 - Treinamento\n",
    "\n",
    "Definida a rede, pode-se treinar a partir da inicialização das variáveis do tensorflow e da definiça2o da seção sess. Feito isso, a rede é treinada a partir de um número de interações que pode ser definido empiricamente e o treino é realizado com o método run, que recebe como parâmetro o otimizador calculado na etapa 5 e feed_dict. O feed_dict recebe as instâncias de entrada e de saída para cada interação.\n",
    "Resumidamente, pode-se dizer que o processo de treinamento de uma rede é feito a partir dos passos:\n",
    "1. Inicializar os placeholders\n",
    "2. Inicializar variáveis de pesos e bias\n",
    "3. Definir estrutura da rede (quantidade de camadas, função de ativação)\n",
    "4. Calcular a perda (loss) a partir de uma função para calculo do erro como a MSE\n",
    "5. Corrigir a perda calculada na etapa 4 a partir do gradiente\n",
    "6. Definir conjunto de treinamento\n",
    "7. Treinamento"
   ]
  },
  {
   "cell_type": "code",
   "execution_count": 8,
   "metadata": {},
   "outputs": [],
   "source": [
    "train_losses = []\n",
    "val_losses = []\n",
    "\n",
    "init = tf.global_variables_initializer()\n",
    "sess = tf.Session()\n",
    "\n",
    "writer = tf.summary.FileWriter(\"./logs\", sess.graph) #tensorboard\n",
    "\n",
    "sess.run(init)\n",
    "\n",
    "for epoch in range(2000):\n",
    "    sess.run(optimizer, feed_dict={X: X_train, Y: y_train})\n",
    "    train_loss = sess.run(loss, feed_dict={X: X_train, Y: y_train})\n",
    "    val_loss   = sess.run(loss, feed_dict={X: X_val, Y: y_val})\n",
    "    train_losses.append(train_loss)\n",
    "    val_losses.append(val_loss)"
   ]
  },
  {
   "cell_type": "code",
   "execution_count": 9,
   "metadata": {},
   "outputs": [
    {
     "data": {
      "image/png": "[encoded data removed]",
      "text/plain": [
       "<Figure size 432x288 with 1 Axes>"
      ]
     },
     "metadata": {},
     "output_type": "display_data"
    }
   ],
   "source": [
    "plt.plot(train_losses, label='Training loss')\n",
    "plt.plot(val_losses, label='Validation loss')\n",
    "plt.legend()\n",
    "_ = plt.ylim()"
   ]
  },
  {
   "cell_type": "code",
   "execution_count": null,
   "metadata": {},
   "outputs": [],
   "source": []
  }
 ],
 "metadata": {
  "kernelspec": {
   "display_name": "Python 3",
   "language": "python",
   "name": "python3"
  },
  "language_info": {
   "codemirror_mode": {
    "name": "ipython",
    "version": 3
   },
   "file_extension": ".py",
   "mimetype": "text/x-python",
   "name": "python",
   "nbconvert_exporter": "python",
   "pygments_lexer": "ipython3",
   "version": "3.6.5"
  }
 },
 "nbformat": 4,
 "nbformat_minor": 2
}
